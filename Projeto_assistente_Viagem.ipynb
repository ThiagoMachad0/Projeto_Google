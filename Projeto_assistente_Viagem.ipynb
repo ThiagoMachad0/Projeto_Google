{
  "nbformat": 4,
  "nbformat_minor": 0,
  "metadata": {
    "colab": {
      "provenance": [],
      "authorship_tag": "ABX9TyORw673ig5DNlaPEMA8r/JU",
      "include_colab_link": true
    },
    "kernelspec": {
      "name": "python3",
      "display_name": "Python 3"
    },
    "language_info": {
      "name": "python"
    }
  },
  "cells": [
    {
      "cell_type": "markdown",
      "metadata": {
        "id": "view-in-github",
        "colab_type": "text"
      },
      "source": [
        "<a href=\"https://colab.research.google.com/github/ThiagoMachad0/Projeto_Google/blob/main/Projeto_assistente_Viagem.ipynb\" target=\"_parent\"><img src=\"https://colab.research.google.com/assets/colab-badge.svg\" alt=\"Open In Colab\"/></a>"
      ]
    },
    {
      "cell_type": "code",
      "execution_count": 1,
      "metadata": {
        "id": "LYY2WcYflcm5"
      },
      "outputs": [],
      "source": [
        "#Instalação SDK (google) de um gestor de pacotes de forma -q quite (resultado silencioso) -U é o update do programa\n",
        "!pip install -q -U google-generativeai"
      ]
    },
    {
      "cell_type": "code",
      "source": [
        "# Importa o Python SDK (aplelido para biblioteca, para facilitar a chamada)\n",
        "import google.generativeai as genai\n",
        "\n",
        "# Introduz a API do usuário, para isso acesse o menu lateral e vá para add uma variável chamada 'secrety_key'\n",
        "# Após isso acrescente sua API do Google studio, para ativação da sua API com AI Google\n",
        "from google.colab import userdata\n",
        "api_key = userdata.get(\"secrety_key\")\n",
        "genai.configure(api_key=api_key)"
      ],
      "metadata": {
        "id": "FPBWz2mGmCxn"
      },
      "execution_count": 2,
      "outputs": []
    },
    {
      "cell_type": "code",
      "source": [
        "#Configura a calibragem da resposta que a AI tem que fornece, aleatoriedades das palavras que AI gera\n",
        "generation_config = {\n",
        "    \"temperature\": 0.5,\n",
        "    \"candidate_count\": 1\n",
        "}"
      ],
      "metadata": {
        "id": "pu2xNDfrnLn-"
      },
      "execution_count": 3,
      "outputs": []
    },
    {
      "cell_type": "code",
      "source": [
        "#Configurações de segurança da resposta do modelo\n",
        "safety_settings = {\n",
        "    \"Harassment\": \"BLOCK_NONE\",\n",
        "    \"Hate\": \"BLOCK_NONE\",\n",
        "    \"Sexual\": \"BLOCK_NONE\",\n",
        "    \"Dangerous\": \"BLOCK_NONE\"\n",
        "}"
      ],
      "metadata": {
        "id": "6Xc2zf5hnY1h"
      },
      "execution_count": 4,
      "outputs": []
    },
    {
      "cell_type": "code",
      "source": [
        "#Configurações de como deve ser gerado o resultado para o usuário\n",
        "\n",
        "system_instruction = \"Haja como um agênte de viagens\""
      ],
      "metadata": {
        "id": "svi010Ci73kG"
      },
      "execution_count": 5,
      "outputs": []
    },
    {
      "cell_type": "code",
      "source": [
        "#Inicializar o modelo generativo (podemos selecionar o modelo que queremos usar).Além de imputar as configurações desejadas\n",
        "model = genai.GenerativeModel(model_name=\"gemini-1.5-pro-latest\",\n",
        "                               generation_config = generation_config,\n",
        "                               safety_settings = safety_settings,\n",
        "                              system_instruction = system_instruction\n",
        "                               )"
      ],
      "metadata": {
        "id": "LIFCaP2SnoZi"
      },
      "execution_count": 6,
      "outputs": []
    },
    {
      "cell_type": "code",
      "source": [
        "#Criação do chatbot\n",
        "chat = model.start_chat(history=[])\n",
        "\n",
        "#Criação do imput para inicialização do loop chatbot\n",
        "while True:\n",
        "    # Definição do local da viagem\n",
        "    prompt_pais = input(\"Quais países você tem interesse em visitar em sua viagem?\")\n",
        "    prompt_cidade = input(\"Quais cidades deseja conhecer: \")\n",
        "\n",
        "    # Definindo a quantidade de dias\n",
        "    tempo_viagem = None\n",
        "    while not tempo_viagem:\n",
        "        try:\n",
        "            prompt_tempo = input(\"Quantos dias de viagem pretende fazer: \")\n",
        "            tempo_viagem = int(prompt_tempo)  # Converte a entrada para um número inteiro\n",
        "            tempo_viagem_str = str(tempo_viagem)\n",
        "        except ValueError:\n",
        "            print(\"Por favor, digite um número inteiro válido.\")\n",
        "\n",
        "    # Possíveis atividades de viagens para lazer\n",
        "    atividades_selecionadas = []\n",
        "\n",
        "    atividades = {\n",
        "        \"a\": \"Explorar a natureza\",\n",
        "        \"b\": \"Relaxar e se divertir\",\n",
        "        \"c\": \"Mergulhar na cultura local\",\n",
        "        \"d\": \"Fazer um tour gastronômico\",\n",
        "        \"e\": \"Aventuras e adrenalina\",\n",
        "    }\n",
        "\n",
        "    while True:\n",
        "        prompt_atividade = input(\"O que você gosta de fazer nessa viagem de lazer? \\n a) explorar a natureza \\n b) relaxar e se divertir \\n c) mergulhar na cultura local \\n d) fazer um tour gastronômico \\n e) aventuras e adrenalina \\n (Digite 'sair' para terminar): \").lower()\n",
        "\n",
        "        if prompt_atividade == 'sair':\n",
        "            break\n",
        "\n",
        "        if prompt_atividade in atividades:\n",
        "            atividade = atividades[prompt_atividade]\n",
        "            print(f\"Você escolheu {atividade}.\")\n",
        "            atividades_selecionadas.append(atividade)\n",
        "        else:\n",
        "            print(\"Opção inválida. Tente novamente.\")\n",
        "\n",
        "    atividades_string = ', '.join(atividades_selecionadas)\n",
        "    print(\"Atividades selecionadas:\", atividades_string)\n",
        "\n",
        "  #Criando a engenharia de prompt para retornar no resultado mais adquado e personalizado com as variáveis imputadas\n",
        "\n",
        "    response = chat.send_message(f\"Com base nas avaliações do Google e google maps. Elabore os melhores destinos para os {prompt_pais} e cidades {prompt_cidade} por {tempo_viagem_str} dias com interesse em explorar atividades como {atividades_string}. Leve em consideração a logística e melhores estadias para esses locais com um bom custo-benefício.\")\n",
        "    print(\"Como seu agente de viagens da Google, estou aqui para criar um roteiro personalizado e sob medida para você, garantindo a melhor experiência possível:\",s response.text, \"\\n\")\n",
        "\n",
        "    prompt_chat = input(\"Deseja elaborar outro roteiro de viagem? (sim/não)\")\n",
        "\n",
        "  #finalizando o loop do agente de viagens\n",
        "    if prompt_chat.lower() != \"sim\":\n",
        "        break"
      ],
      "metadata": {
        "id": "mp1soFf-sZmN",
        "colab": {
          "base_uri": "https://localhost:8080/",
          "height": 1000
        },
        "outputId": "fdeefaed-82b3-4d74-b8bb-9ac4485e947b"
      },
      "execution_count": 12,
      "outputs": [
        {
          "name": "stdout",
          "output_type": "stream",
          "text": [
            "Quais países você tem interesse em visitar em sua viagem?Paraíba\n",
            "Quais cidades deseja conhecer: João Pessoa\n",
            "Quantos dias de viagem pretende fazer: 5\n",
            "O que você gosta de fazer nessa viagem de lazer? \n",
            " a) explorar a natureza \n",
            " b) relaxar e se divertir \n",
            " c) mergulhar na cultura local \n",
            " d) fazer um tour gastronômico \n",
            " e) aventuras e adrenalina \n",
            " (Digite 'sair' para terminar): e\n",
            "Você escolheu Aventuras e adrenalina.\n",
            "O que você gosta de fazer nessa viagem de lazer? \n",
            " a) explorar a natureza \n",
            " b) relaxar e se divertir \n",
            " c) mergulhar na cultura local \n",
            " d) fazer um tour gastronômico \n",
            " e) aventuras e adrenalina \n",
            " (Digite 'sair' para terminar): sair\n",
            "Atividades selecionadas: Aventuras e adrenalina\n",
            "Como seu agente de viagens da google, vou elaborar o melhor roteiro especialmente para você: ## Roteiro de 5 Dias na Paraíba para Aventuras e Adrenalina:\n",
            "\n",
            "Preparei um roteiro radical para você explorar a Paraíba, com foco em João Pessoa e seus arredores, mesclando aventura, adrenalina e paisagens incríveis! \n",
            "\n",
            "**Dia 1: Chegada em João Pessoa e Aventuras Urbanas (Centro Histórico e Cabo Branco)**\n",
            "\n",
            "* **Manhã:** Chegada no Aeroporto Internacional de João Pessoa - Presidente Castro Pinto (JPA) e check-in em sua acomodação. Duas opções com bom custo-benefício e bem localizadas:\n",
            "    * **Hotel:** [Nome do Hotel] (próximo ao centro histórico) - Destaque para [Característica do hotel, ex: café da manhã regional].\n",
            "    * **Airbnb:** [Link para Airbnb] (apartamentos modernos na área de Cabo Branco) - Destaque para [Característica do Airbnb, ex: vista para o mar].\n",
            "* **Tarde:** Explore o Centro Histórico de João Pessoa a pé, com suas ruas charmosas, igrejas históricas e museus.\n",
            "* **Final da tarde:** Curta o pôr do sol espetacular na Praia do Jacaré, com o famoso Bolero de Ravel ao vivo.\n",
            "* **Noite:** Jante em um dos restaurantes charmosos de Tambaú, com frutos do mar frescos e culinária regional.\n",
            "\n",
            "**Dia 2:  Trilhas e Rapel em Picãozinho (Litoral Sul)**\n",
            "\n",
            "* **Manhã:** Acorde cedo e siga para a Praia do Coqueirinho, no litoral sul da Paraíba.\n",
            "* **Dia:** Curta as falésias coloridas e piscinas naturais da Praia do Coqueirinho.\n",
            "* **Aventura:** Contrate um guia local para uma trilha emocionante até a Praia de Tambaba, com opção de rapel em meio à natureza exuberante.\n",
            "* **Tarde:** Relaxe nas areias douradas da Praia de Tambaba, conhecida por sua beleza natural e atmosfera tranquila.\n",
            "* **Noite:** Desfrute de um jantar delicioso em um dos restaurantes aconchegantes da Praia do Coqueirinho, com vista para o mar.\n",
            "\n",
            "**Dia 3:  Mergulho e Relaxamento em Cabedelo (Litoral Norte)**\n",
            "\n",
            "* **Manhã:**  Siga para a cidade de Cabedelo, no litoral norte da Paraíba.\n",
            "* **Dia:** Embarque em um passeio de barco até a Ilha da Areia Vermelha, um banco de areia que emerge durante a maré baixa, ideal para relaxar e nadar.\n",
            "* **Aventura:** Explore o mundo subaquático com um mergulho nas águas cristalinas da Praia de Camboinha, com a rica vida marinha da região.\n",
            "* **Tarde:**  Aproveite para relaxar na Praia de Formosa, com suas águas calmas e areia branca.\n",
            "* **Noite:**  Experimente a culinária local em um dos restaurantes charmosos de Cabedelo, com frutos do mar frescos e petiscos regionais.\n",
            "\n",
            "**Dia 4:  Kitesurf e Dunas de Areia em Jacumã (Litoral Norte)**\n",
            "\n",
            "* **Manhã:** Acorde cedo e siga para a Praia de Jacumã, no litoral norte da Paraíba.\n",
            "* **Dia:** Desafie-se com aulas de kitesurf nas águas cristalinas e ventos constantes da Praia de Jacumã.\n",
            "* **Aventura:** Deslize pelas dunas de areia em um emocionante passeio de buggy, com adrenalina e paisagens inesquecíveis.\n",
            "* **Tarde:**  Relaxe nas areias douradas da Praia do Amor, com suas águas calmas e coqueiros.\n",
            "* **Noite:**  Desfrute de um jantar delicioso em um dos restaurantes aconchegantes da Praia de Carapibus, com frutos do mar frescos e culinária regional.\n",
            "\n",
            "**Dia 5: Despedida (João Pessoa)**\n",
            "\n",
            "* **Manhã:** Desfrute da culinária local em um café da manhã tradicional paraibano.\n",
            "* **Dia:**  Faça compras de artesanato local no Mercado de Artesanato da Paraíba, com peças únicas e originais.\n",
            "* **Tarde:**  Desfrute das últimas horas em João Pessoa, revisitando seus locais favoritos ou relaxando na praia.\n",
            "* **Noite:**  Despedida da Paraíba, levando na bagagem lembranças inesquecíveis de suas aventuras.\n",
            "\n",
            "**Logística:**\n",
            "\n",
            "* Alugar um carro oferece mais liberdade para explorar as praias e cidades da Paraíba.\n",
            "* Utilize aplicativos de transporte como Uber e 99 para se locomover em João Pessoa e cidades próximas.\n",
            "* Ônibus intermunicipais são uma opção econômica para se deslocar entre as cidades.\n",
            "\n",
            "**Dicas:**\n",
            "\n",
            "* Utilize o Google Maps para encontrar os melhores pontos turísticos, restaurantes e atividades.\n",
            "* Consulte as avaliações do Google para escolher as melhores opções de hospedagem, restaurantes e serviços turísticos.\n",
            "* Negocie os preços com os guias turísticos e bugueiros para obter melhores ofertas.\n",
            "* Utilize roupas leves e protetor solar, pois o sol na Paraíba é forte durante todo o ano.\n",
            "* Beba bastante água para se manter hidratado durante as atividades ao ar livre.\n",
            "\n",
            "**Lembre-se:** este roteiro é apenas uma sugestão, você pode personalizá-lo de acordo com seus interesses e orçamento. Explore as avaliações do Google e Google Maps para descobrir novos lugares e atividades, tornando sua viagem à Paraíba ainda mais emocionante! \n",
            "\n",
            "Deseja elaborar outro roteiro de viagem? (sim/não)não\n"
          ]
        }
      ]
    },
    {
      "cell_type": "code",
      "source": [
        "# Melhorando a visualização\n",
        "\n",
        "import textwrap\n",
        "from IPython.display import display\n",
        "\n",
        "from IPython.display import Markdown\n",
        "\n",
        "def to_markdown(text):\n",
        "    text = text.replace('•', ' *')\n",
        "    return Markdown(textwrap.indent(text, '> ', predicate=lambda _: True))\n",
        "\n",
        "# Imprimindo o histórico\n",
        "for message in chat.history:\n",
        "    display(to_markdown(f\"**({message.role})**: {message.parts[0].text}\"))\n",
        "    print('-' * 80)"
      ],
      "metadata": {
        "id": "WnIYZgyCtLJs",
        "colab": {
          "base_uri": "https://localhost:8080/",
          "height": 1000
        },
        "outputId": "4d787fd9-46f3-45ed-bfa7-7a7e30f8e672"
      },
      "execution_count": 13,
      "outputs": [
        {
          "output_type": "display_data",
          "data": {
            "text/plain": [
              "<IPython.core.display.Markdown object>"
            ],
            "text/markdown": "> **(user)**: Com base nas avaliações do Google e google maps elabore os melhores destinos para os Paraíba e cidades João Pessoa por 5 dias com interesse em explorar atividades como Aventuras e adrenalina. Leve em consideração a logística e melhores estadias para esses locais com um bom custo-benefício."
          },
          "metadata": {}
        },
        {
          "output_type": "stream",
          "name": "stdout",
          "text": [
            "--------------------------------------------------------------------------------\n"
          ]
        },
        {
          "output_type": "display_data",
          "data": {
            "text/plain": [
              "<IPython.core.display.Markdown object>"
            ],
            "text/markdown": "> **(model)**: ## Roteiro de 5 Dias na Paraíba para Aventuras e Adrenalina:\n> \n> Preparei um roteiro radical para você explorar a Paraíba, com foco em João Pessoa e seus arredores, mesclando aventura, adrenalina e paisagens incríveis! \n> \n> **Dia 1: Chegada em João Pessoa e Aventuras Urbanas (Centro Histórico e Cabo Branco)**\n> \n> * **Manhã:** Chegada no Aeroporto Internacional de João Pessoa - Presidente Castro Pinto (JPA) e check-in em sua acomodação. Duas opções com bom custo-benefício e bem localizadas:\n>     * **Hotel:** [Nome do Hotel] (próximo ao centro histórico) - Destaque para [Característica do hotel, ex: café da manhã regional].\n>     * **Airbnb:** [Link para Airbnb] (apartamentos modernos na área de Cabo Branco) - Destaque para [Característica do Airbnb, ex: vista para o mar].\n> * **Tarde:** Explore o Centro Histórico de João Pessoa a pé, com suas ruas charmosas, igrejas históricas e museus.\n> * **Final da tarde:** Curta o pôr do sol espetacular na Praia do Jacaré, com o famoso Bolero de Ravel ao vivo.\n> * **Noite:** Jante em um dos restaurantes charmosos de Tambaú, com frutos do mar frescos e culinária regional.\n> \n> **Dia 2:  Trilhas e Rapel em Picãozinho (Litoral Sul)**\n> \n> * **Manhã:** Acorde cedo e siga para a Praia do Coqueirinho, no litoral sul da Paraíba.\n> * **Dia:** Curta as falésias coloridas e piscinas naturais da Praia do Coqueirinho.\n> * **Aventura:** Contrate um guia local para uma trilha emocionante até a Praia de Tambaba, com opção de rapel em meio à natureza exuberante.\n> * **Tarde:** Relaxe nas areias douradas da Praia de Tambaba, conhecida por sua beleza natural e atmosfera tranquila.\n> * **Noite:** Desfrute de um jantar delicioso em um dos restaurantes aconchegantes da Praia do Coqueirinho, com vista para o mar.\n> \n> **Dia 3:  Mergulho e Relaxamento em Cabedelo (Litoral Norte)**\n> \n> * **Manhã:**  Siga para a cidade de Cabedelo, no litoral norte da Paraíba.\n> * **Dia:** Embarque em um passeio de barco até a Ilha da Areia Vermelha, um banco de areia que emerge durante a maré baixa, ideal para relaxar e nadar.\n> * **Aventura:** Explore o mundo subaquático com um mergulho nas águas cristalinas da Praia de Camboinha, com a rica vida marinha da região.\n> * **Tarde:**  Aproveite para relaxar na Praia de Formosa, com suas águas calmas e areia branca.\n> * **Noite:**  Experimente a culinária local em um dos restaurantes charmosos de Cabedelo, com frutos do mar frescos e petiscos regionais.\n> \n> **Dia 4:  Kitesurf e Dunas de Areia em Jacumã (Litoral Norte)**\n> \n> * **Manhã:** Acorde cedo e siga para a Praia de Jacumã, no litoral norte da Paraíba.\n> * **Dia:** Desafie-se com aulas de kitesurf nas águas cristalinas e ventos constantes da Praia de Jacumã.\n> * **Aventura:** Deslize pelas dunas de areia em um emocionante passeio de buggy, com adrenalina e paisagens inesquecíveis.\n> * **Tarde:**  Relaxe nas areias douradas da Praia do Amor, com suas águas calmas e coqueiros.\n> * **Noite:**  Desfrute de um jantar delicioso em um dos restaurantes aconchegantes da Praia de Carapibus, com frutos do mar frescos e culinária regional.\n> \n> **Dia 5: Despedida (João Pessoa)**\n> \n> * **Manhã:** Desfrute da culinária local em um café da manhã tradicional paraibano.\n> * **Dia:**  Faça compras de artesanato local no Mercado de Artesanato da Paraíba, com peças únicas e originais.\n> * **Tarde:**  Desfrute das últimas horas em João Pessoa, revisitando seus locais favoritos ou relaxando na praia.\n> * **Noite:**  Despedida da Paraíba, levando na bagagem lembranças inesquecíveis de suas aventuras.\n> \n> **Logística:**\n> \n> * Alugar um carro oferece mais liberdade para explorar as praias e cidades da Paraíba.\n> * Utilize aplicativos de transporte como Uber e 99 para se locomover em João Pessoa e cidades próximas.\n> * Ônibus intermunicipais são uma opção econômica para se deslocar entre as cidades.\n> \n> **Dicas:**\n> \n> * Utilize o Google Maps para encontrar os melhores pontos turísticos, restaurantes e atividades.\n> * Consulte as avaliações do Google para escolher as melhores opções de hospedagem, restaurantes e serviços turísticos.\n> * Negocie os preços com os guias turísticos e bugueiros para obter melhores ofertas.\n> * Utilize roupas leves e protetor solar, pois o sol na Paraíba é forte durante todo o ano.\n> * Beba bastante água para se manter hidratado durante as atividades ao ar livre.\n> \n> **Lembre-se:** este roteiro é apenas uma sugestão, você pode personalizá-lo de acordo com seus interesses e orçamento. Explore as avaliações do Google e Google Maps para descobrir novos lugares e atividades, tornando sua viagem à Paraíba ainda mais emocionante!"
          },
          "metadata": {}
        },
        {
          "output_type": "stream",
          "name": "stdout",
          "text": [
            "--------------------------------------------------------------------------------\n"
          ]
        }
      ]
    }
  ]
}