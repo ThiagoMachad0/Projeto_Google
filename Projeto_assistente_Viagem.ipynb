{
  "nbformat": 4,
  "nbformat_minor": 0,
  "metadata": {
    "colab": {
      "provenance": [],
      "authorship_tag": "ABX9TyPD0e7qnnSmAJ5642GEhdPB",
      "include_colab_link": true
    },
    "kernelspec": {
      "name": "python3",
      "display_name": "Python 3"
    },
    "language_info": {
      "name": "python"
    }
  },
  "cells": [
    {
      "cell_type": "markdown",
      "metadata": {
        "id": "view-in-github",
        "colab_type": "text"
      },
      "source": [
        "<a href=\"https://colab.research.google.com/github/ThiagoMachad0/Projeto_Google/blob/main/Projeto_assistente_Viagem.ipynb\" target=\"_parent\"><img src=\"https://colab.research.google.com/assets/colab-badge.svg\" alt=\"Open In Colab\"/></a>"
      ]
    },
    {
      "cell_type": "code",
      "execution_count": 1,
      "metadata": {
        "id": "LYY2WcYflcm5"
      },
      "outputs": [],
      "source": [
        "#Instalação SDK (google) de um gestor de pacotes de forma -q quite (resultado silencioso) -U é o update do programa\n",
        "!pip install -q -U google-generativeai"
      ]
    },
    {
      "cell_type": "code",
      "source": [
        "# Importa o Python SDK (aplelido para biblioteca, para facilitar a chamada)\n",
        "import google.generativeai as genai\n",
        "\n",
        "# Introduz a API do usuário, para isso acesse o menu lateral e vá para add uma variável chamada 'secrety_key'\n",
        "# Após isso acrescente sua API do Google studio, para ativação da sua API com AI Google\n",
        "from google.colab import userdata\n",
        "api_key = userdata.get(\"secrety_key\")\n",
        "genai.configure(api_key=api_key)"
      ],
      "metadata": {
        "id": "FPBWz2mGmCxn"
      },
      "execution_count": 2,
      "outputs": []
    },
    {
      "cell_type": "code",
      "source": [
        "#Configura a calibragem da resposta que a AI tem que fornece, aleatoriedades das palavras que AI gera\n",
        "generation_config = {\n",
        "    \"temperature\": 0.5,\n",
        "    \"candidate_count\": 1\n",
        "}"
      ],
      "metadata": {
        "id": "pu2xNDfrnLn-"
      },
      "execution_count": 3,
      "outputs": []
    },
    {
      "cell_type": "code",
      "source": [
        "#Configurações de segurança da resposta do modelo\n",
        "safety_settings = {\n",
        "    \"Harassment\": \"BLOCK_NONE\",\n",
        "    \"Hate\": \"BLOCK_NONE\",\n",
        "    \"Sexual\": \"BLOCK_NONE\",\n",
        "    \"Dangerous\": \"BLOCK_NONE\"\n",
        "}"
      ],
      "metadata": {
        "id": "6Xc2zf5hnY1h"
      },
      "execution_count": 4,
      "outputs": []
    },
    {
      "cell_type": "code",
      "source": [
        "#Configurações de como deve ser gerado o resultado para o usuário\n",
        "\n",
        "system_instruction = \"Haja como um agênte de viagens\""
      ],
      "metadata": {
        "id": "svi010Ci73kG"
      },
      "execution_count": 5,
      "outputs": []
    },
    {
      "cell_type": "code",
      "source": [
        "#Inicializar o modelo generativo (podemos selecionar o modelo que queremos usar).Além de imputar as configurações desejadas\n",
        "model = genai.GenerativeModel(model_name=\"gemini-1.5-pro-latest\",\n",
        "                               generation_config = generation_config,\n",
        "                               safety_settings = safety_settings,\n",
        "                              system_instruction = system_instruction\n",
        "                               )"
      ],
      "metadata": {
        "id": "LIFCaP2SnoZi"
      },
      "execution_count": 6,
      "outputs": []
    },
    {
      "cell_type": "code",
      "source": [
        "#Criação do chatbot\n",
        "chat = model.start_chat(history=[])\n",
        "\n",
        "#Criação do imput para inicialização do loop chatbot\n",
        "while True:\n",
        "    # Definição do local da viagem\n",
        "    prompt_pais = input(\"Quais países você tem interesse em visitar em sua viagem?\")\n",
        "    prompt_cidade = input(\"Quais cidades deseja conhecer: \")\n",
        "\n",
        "    # Definindo a quantidade de dias\n",
        "    tempo_viagem = None\n",
        "    while not tempo_viagem:\n",
        "        try:\n",
        "            prompt_tempo = input(\"Quantos dias de viagem pretende fazer: \")\n",
        "            tempo_viagem = int(prompt_tempo)  # Converte a entrada para um número inteiro\n",
        "            tempo_viagem_str = str(tempo_viagem)\n",
        "        except ValueError:\n",
        "            print(\"Por favor, digite um número inteiro válido.\")\n",
        "\n",
        "    # Possíveis atividades de viagens para lazer\n",
        "    atividades_selecionadas = []\n",
        "\n",
        "    atividades = {\n",
        "        \"a\": \"Explorar a natureza\",\n",
        "        \"b\": \"Relaxar e se divertir\",\n",
        "        \"c\": \"Mergulhar na cultura local\",\n",
        "        \"d\": \"Fazer um tour gastronômico\",\n",
        "        \"e\": \"Aventuras e adrenalina\",\n",
        "    }\n",
        "\n",
        "    while True:\n",
        "        prompt_atividade = input(\"O que você gosta de fazer nessa viagem de lazer? \\n a) explorar a natureza \\n b) relaxar e se divertir \\n c) mergulhar na cultura local \\n d) fazer um tour gastronômico \\n e) aventuras e adrenalina \\n (Digite 'sair' para terminar): \").lower()\n",
        "\n",
        "        if prompt_atividade == 'sair':\n",
        "            break\n",
        "\n",
        "        if prompt_atividade in atividades:\n",
        "            atividade = atividades[prompt_atividade]\n",
        "            print(f\"Você escolheu {atividade}.\")\n",
        "            atividades_selecionadas.append(atividade)\n",
        "        else:\n",
        "            print(\"Opção inválida. Tente novamente.\")\n",
        "\n",
        "    atividades_string = ', '.join(atividades_selecionadas)\n",
        "    print(\"Atividades selecionadas:\", atividades_string)\n",
        "\n",
        "  #Criando a engenharia de prompt para retornar no resultado mais adquado e personalizado com as variáveis imputadas\n",
        "\n",
        "    response = chat.send_message(f\"Com base nas avaliações do Google e google maps. Elabore os melhores destinos para os {prompt_pais} e cidades {prompt_cidade} por {tempo_viagem_str} dias com interesse em explorar atividades como {atividades_string}. Leve em consideração a logística e melhores estadias para esses locais com um bom custo-benefício.\")\n",
        "    print(\"Como seu agente de viagens da Google, estou aqui para criar um roteiro personalizado e sob medida para você, garantindo a melhor experiência possível:\", response.text, \"\\n\")\n",
        "\n",
        "    prompt_chat = input(\"Deseja elaborar outro roteiro de viagem? (sim/não)\")\n",
        "\n",
        "  #finalizando o loop do agente de viagens\n",
        "    if prompt_chat.lower() != \"sim\":\n",
        "        break"
      ],
      "metadata": {
        "id": "mp1soFf-sZmN",
        "colab": {
          "base_uri": "https://localhost:8080/",
          "height": 1000
        },
        "outputId": "38ab1394-b52b-4b54-829c-3a068a9bde8c"
      },
      "execution_count": 9,
      "outputs": [
        {
          "name": "stdout",
          "output_type": "stream",
          "text": [
            "Quais países você tem interesse em visitar em sua viagem?Tailandia\n",
            "Quais cidades deseja conhecer: Bankok e Phi Phi Island\n",
            "Quantos dias de viagem pretende fazer: 10\n",
            "O que você gosta de fazer nessa viagem de lazer? \n",
            " a) explorar a natureza \n",
            " b) relaxar e se divertir \n",
            " c) mergulhar na cultura local \n",
            " d) fazer um tour gastronômico \n",
            " e) aventuras e adrenalina \n",
            " (Digite 'sair' para terminar): c\n",
            "Você escolheu Mergulhar na cultura local.\n",
            "O que você gosta de fazer nessa viagem de lazer? \n",
            " a) explorar a natureza \n",
            " b) relaxar e se divertir \n",
            " c) mergulhar na cultura local \n",
            " d) fazer um tour gastronômico \n",
            " e) aventuras e adrenalina \n",
            " (Digite 'sair' para terminar): b\n",
            "Você escolheu Relaxar e se divertir.\n",
            "O que você gosta de fazer nessa viagem de lazer? \n",
            " a) explorar a natureza \n",
            " b) relaxar e se divertir \n",
            " c) mergulhar na cultura local \n",
            " d) fazer um tour gastronômico \n",
            " e) aventuras e adrenalina \n",
            " (Digite 'sair' para terminar): sair\n",
            "Atividades selecionadas: Mergulhar na cultura local, Relaxar e se divertir\n",
            "Como seu agente de viagens da Google, estou aqui para criar um roteiro personalizado e sob medida para você, garantindo a melhor experiência possível: ## Roteiro de 10 dias na Tailândia: Bangkok & Phi Phi Island - Mergulho Cultural, Relaxamento e Diversão!\n",
            "\n",
            "**Prezado viajante,**\n",
            "\n",
            "Prepare-se para uma jornada inesquecível pela vibrante Bangkok e paradisíaca Phi Phi Island! Este roteiro de 10 dias foi cuidadosamente elaborado com base em avaliações do Google e Google Maps, priorizando o melhor custo-benefício e logística, para que você mergulhe na cultura local, relaxe e se divirta ao máximo!\n",
            "\n",
            "**Dia 1: Chegada em Bangkok - Mergulhando na cultura tailandesa!**\n",
            "\n",
            "* Chegada no Aeroporto Internacional Suvarnabhumi (BKK) e traslado para o hotel **Lub d Bangkok Siam Square** (ótima localização, moderno e com bom custo benefício).\n",
            "* Explore a área de Siam Square, um centro vibrante com lojas, restaurantes e mercados de rua.\n",
            "* Jante no **Thipsamai Pad Thai** (lendário Pad Thai com filas que valem a pena!)\n",
            "\n",
            "**Dia 2: Templos, Mercados Flutuantes e Sabores Autênticos!**\n",
            "\n",
            "* Comece o dia com uma visita ao magnífico **Wat Arun (Templo do Amanhecer)**, com sua arquitetura Khmer impressionante.\n",
            "* Explore o colorido **Mercado Flutuante Damnoen Saduak**, navegando por entre barcos repletos de frutas, legumes e artesanato local.\n",
            "* Delicie-se com um autêntico almoço tailandês no mercado.\n",
            "* À noite, desfrute de um cruzeiro com jantar pelo Rio Chao Phraya, apreciando a beleza de Bangkok iluminada.\n",
            "\n",
            "**Dia 3: Grand Palace, Wat Pho e Massagem Tailandesa!**\n",
            "\n",
            "* Visite o **Grand Palace**, um complexo deslumbrante de templos e palácios, incluindo o venerado **Templo do Buda de Esmeralda (Wat Phra Kaew)**.\n",
            "* Relaxe no **Wat Pho**, lar do colossal Buda Reclinado, e experimente uma tradicional massagem tailandesa na escola de massagem do templo.\n",
            "* Explore a **Khao San Road**, famosa rua com atmosfera vibrante, barracas de comida, lojas e bares.\n",
            "\n",
            "**Dia 4: Voo para Phi Phi Island - Paraíso Tropical te espera!**\n",
            "\n",
            "* Voo pela manhã de Bangkok para Krabi (KBV) com a **AirAsia** ou **Nok Air** (opções de baixo custo).\n",
            "* Traslado do aeroporto para o píer e embarque em um ferry para Phi Phi Island.\n",
            "* Check-in no **Phi Phi The Beach Resort** (localizado na deslumbrante Long Beach, com bangalôs pé na areia e ambiente relaxante).\n",
            "\n",
            "**Dia 5: Long Beach - Relaxamento e Belezas Naturais!**\n",
            "\n",
            "* Desfrute da beleza intocada de Long Beach, relaxando na areia branca, nadando nas águas cristalinas e explorando os recifes de coral com snorkel.\n",
            "* Almoce em um dos restaurantes à beira-mar, saboreando frutos do mar frescos.\n",
            "* Contemple o pôr do sol mágico sobre o mar de Andaman.\n",
            "\n",
            "**Dia 6: Maya Bay & Mergulho - Aventura Subaquática!**\n",
            "\n",
            "* Faça um passeio de barco até a famosa **Maya Bay**, cenário do filme \"A Praia\", e admire a beleza natural da baía.\n",
            "* Mergulhe nas águas cristalinas de Phi Phi Leh, explorando a rica vida marinha e os corais coloridos.\n",
            "* Desfrute de um delicioso churrasco tailandês na praia.\n",
            "\n",
            "**Dia 7: Pi Leh Lagoon & Viking Cave - Caiaque e Exploração!**\n",
            "\n",
            "* Alugue um caiaque e explore a deslumbrante **Pi Leh Lagoon**, com suas águas azul-turquesa e penhascos imponentes.\n",
            "* Visite a **Viking Cave**, famosa por suas pinturas rupestres e andorinhas que constroem seus ninhos comestíveis.\n",
            "* Relaxe em um dos bares de praia da Tonsai Bay, com música ao vivo e ambiente animado.\n",
            "\n",
            "**Dia 8: Phi Phi Viewpoint & Relaxamento na Piscina!**\n",
            "\n",
            "* Suba até o **Phi Phi Viewpoint** para desfrutar de vistas panorâmicas de tirar o fôlego da ilha.\n",
            "* Relaxe na piscina do resort, aproveitando o sol e a atmosfera tranquila.\n",
            "* Jante em um dos restaurantes locais, experimentando a culinária tailandesa.\n",
            "\n",
            "**Dia 9: Retorno para Krabi - Compras e Cultura Local!**\n",
            "\n",
            "* Ferry de Phi Phi Island para Krabi.\n",
            "* Check-in no **Avani+ Ao Nang Cliff Krabi Resort** (vistas espetaculares, piscina infinita e excelente localização).\n",
            "* Explore o centro de Krabi Town, com seus mercados locais, lojas de artesanato e restaurantes.\n",
            "* Desfrute de um jantar em um restaurante com vista para o Rio Krabi.\n",
            "\n",
            "**Dia 10: Despedida da Tailândia - Até a Próxima Aventura!**\n",
            "\n",
            "* Tempo livre para últimas compras ou relaxamento na piscina do hotel.\n",
            "* Traslado para o Aeroporto Internacional de Krabi (KBV) para seu voo de volta para casa, levando consigo memórias inesquecíveis da Tailândia!\n",
            "\n",
            "**Observações:**\n",
            "\n",
            "* Este roteiro é flexível e pode ser adaptado aos seus gostos e preferências.\n",
            "* Reserve seus voos e acomodações com antecedência, especialmente durante a alta temporada.\n",
            "* Certifique-se de ter um seguro de viagem e visto (se necessário).\n",
            "* Leve em consideração o clima tropical da Tailândia ao planejar suas atividades.\n",
            "\n",
            "**Espero que este roteiro te inspire a explorar as maravilhas da Tailândia! Boa viagem!** \n",
            " \n",
            "\n",
            "Deseja elaborar outro roteiro de viagem? (sim/não)não\n"
          ]
        }
      ]
    },
    {
      "cell_type": "code",
      "source": [
        "# Melhorando a visualização\n",
        "\n",
        "import textwrap\n",
        "from IPython.display import display\n",
        "\n",
        "from IPython.display import Markdown\n",
        "\n",
        "def to_markdown(text):\n",
        "    text = text.replace('•', ' *')\n",
        "    return Markdown(textwrap.indent(text, '> ', predicate=lambda _: True))\n",
        "\n",
        "# Imprimindo o histórico\n",
        "for message in chat.history:\n",
        "    display(to_markdown(f\"**({message.role})**: {message.parts[0].text}\"))\n",
        "    print('-' * 80)"
      ],
      "metadata": {
        "id": "WnIYZgyCtLJs",
        "colab": {
          "base_uri": "https://localhost:8080/",
          "height": 1000
        },
        "outputId": "821c6049-8cdf-43ed-be82-ba20c7457f08"
      },
      "execution_count": 10,
      "outputs": [
        {
          "output_type": "display_data",
          "data": {
            "text/plain": [
              "<IPython.core.display.Markdown object>"
            ],
            "text/markdown": "> **(user)**: Com base nas avaliações do Google e google maps. Elabore os melhores destinos para os Tailandia e cidades Bankok e Phi Phi Island por 10 dias com interesse em explorar atividades como Mergulhar na cultura local, Relaxar e se divertir. Leve em consideração a logística e melhores estadias para esses locais com um bom custo-benefício."
          },
          "metadata": {}
        },
        {
          "output_type": "stream",
          "name": "stdout",
          "text": [
            "--------------------------------------------------------------------------------\n"
          ]
        },
        {
          "output_type": "display_data",
          "data": {
            "text/plain": [
              "<IPython.core.display.Markdown object>"
            ],
            "text/markdown": "> **(model)**: ## Roteiro de 10 dias na Tailândia: Bangkok & Phi Phi Island - Mergulho Cultural, Relaxamento e Diversão!\n> \n> **Prezado viajante,**\n> \n> Prepare-se para uma jornada inesquecível pela vibrante Bangkok e paradisíaca Phi Phi Island! Este roteiro de 10 dias foi cuidadosamente elaborado com base em avaliações do Google e Google Maps, priorizando o melhor custo-benefício e logística, para que você mergulhe na cultura local, relaxe e se divirta ao máximo!\n> \n> **Dia 1: Chegada em Bangkok - Mergulhando na cultura tailandesa!**\n> \n> * Chegada no Aeroporto Internacional Suvarnabhumi (BKK) e traslado para o hotel **Lub d Bangkok Siam Square** (ótima localização, moderno e com bom custo benefício).\n> * Explore a área de Siam Square, um centro vibrante com lojas, restaurantes e mercados de rua.\n> * Jante no **Thipsamai Pad Thai** (lendário Pad Thai com filas que valem a pena!)\n> \n> **Dia 2: Templos, Mercados Flutuantes e Sabores Autênticos!**\n> \n> * Comece o dia com uma visita ao magnífico **Wat Arun (Templo do Amanhecer)**, com sua arquitetura Khmer impressionante.\n> * Explore o colorido **Mercado Flutuante Damnoen Saduak**, navegando por entre barcos repletos de frutas, legumes e artesanato local.\n> * Delicie-se com um autêntico almoço tailandês no mercado.\n> * À noite, desfrute de um cruzeiro com jantar pelo Rio Chao Phraya, apreciando a beleza de Bangkok iluminada.\n> \n> **Dia 3: Grand Palace, Wat Pho e Massagem Tailandesa!**\n> \n> * Visite o **Grand Palace**, um complexo deslumbrante de templos e palácios, incluindo o venerado **Templo do Buda de Esmeralda (Wat Phra Kaew)**.\n> * Relaxe no **Wat Pho**, lar do colossal Buda Reclinado, e experimente uma tradicional massagem tailandesa na escola de massagem do templo.\n> * Explore a **Khao San Road**, famosa rua com atmosfera vibrante, barracas de comida, lojas e bares.\n> \n> **Dia 4: Voo para Phi Phi Island - Paraíso Tropical te espera!**\n> \n> * Voo pela manhã de Bangkok para Krabi (KBV) com a **AirAsia** ou **Nok Air** (opções de baixo custo).\n> * Traslado do aeroporto para o píer e embarque em um ferry para Phi Phi Island.\n> * Check-in no **Phi Phi The Beach Resort** (localizado na deslumbrante Long Beach, com bangalôs pé na areia e ambiente relaxante).\n> \n> **Dia 5: Long Beach - Relaxamento e Belezas Naturais!**\n> \n> * Desfrute da beleza intocada de Long Beach, relaxando na areia branca, nadando nas águas cristalinas e explorando os recifes de coral com snorkel.\n> * Almoce em um dos restaurantes à beira-mar, saboreando frutos do mar frescos.\n> * Contemple o pôr do sol mágico sobre o mar de Andaman.\n> \n> **Dia 6: Maya Bay & Mergulho - Aventura Subaquática!**\n> \n> * Faça um passeio de barco até a famosa **Maya Bay**, cenário do filme \"A Praia\", e admire a beleza natural da baía.\n> * Mergulhe nas águas cristalinas de Phi Phi Leh, explorando a rica vida marinha e os corais coloridos.\n> * Desfrute de um delicioso churrasco tailandês na praia.\n> \n> **Dia 7: Pi Leh Lagoon & Viking Cave - Caiaque e Exploração!**\n> \n> * Alugue um caiaque e explore a deslumbrante **Pi Leh Lagoon**, com suas águas azul-turquesa e penhascos imponentes.\n> * Visite a **Viking Cave**, famosa por suas pinturas rupestres e andorinhas que constroem seus ninhos comestíveis.\n> * Relaxe em um dos bares de praia da Tonsai Bay, com música ao vivo e ambiente animado.\n> \n> **Dia 8: Phi Phi Viewpoint & Relaxamento na Piscina!**\n> \n> * Suba até o **Phi Phi Viewpoint** para desfrutar de vistas panorâmicas de tirar o fôlego da ilha.\n> * Relaxe na piscina do resort, aproveitando o sol e a atmosfera tranquila.\n> * Jante em um dos restaurantes locais, experimentando a culinária tailandesa.\n> \n> **Dia 9: Retorno para Krabi - Compras e Cultura Local!**\n> \n> * Ferry de Phi Phi Island para Krabi.\n> * Check-in no **Avani+ Ao Nang Cliff Krabi Resort** (vistas espetaculares, piscina infinita e excelente localização).\n> * Explore o centro de Krabi Town, com seus mercados locais, lojas de artesanato e restaurantes.\n> * Desfrute de um jantar em um restaurante com vista para o Rio Krabi.\n> \n> **Dia 10: Despedida da Tailândia - Até a Próxima Aventura!**\n> \n> * Tempo livre para últimas compras ou relaxamento na piscina do hotel.\n> * Traslado para o Aeroporto Internacional de Krabi (KBV) para seu voo de volta para casa, levando consigo memórias inesquecíveis da Tailândia!\n> \n> **Observações:**\n> \n> * Este roteiro é flexível e pode ser adaptado aos seus gostos e preferências.\n> * Reserve seus voos e acomodações com antecedência, especialmente durante a alta temporada.\n> * Certifique-se de ter um seguro de viagem e visto (se necessário).\n> * Leve em consideração o clima tropical da Tailândia ao planejar suas atividades.\n> \n> **Espero que este roteiro te inspire a explorar as maravilhas da Tailândia! Boa viagem!** \n"
          },
          "metadata": {}
        },
        {
          "output_type": "stream",
          "name": "stdout",
          "text": [
            "--------------------------------------------------------------------------------\n"
          ]
        }
      ]
    }
  ]
}